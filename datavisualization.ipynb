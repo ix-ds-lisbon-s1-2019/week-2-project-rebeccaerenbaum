{
 "cells": [
  {
   "cell_type": "markdown",
   "metadata": {},
   "source": [
    "* My data pertains to restaurant and market health violations in Los Angeles. I find this topic very interesting because Los Angeles is a well-known city presented to us particularly through the media in a positive light. This data set shows that not everything on media is as perfect as it seems. The data set includes the serial number, which shows who owns the restaurant, the activity date the inspection was conducted, what each restaurant violated and their descriptions, a risk in the restaurant, and the reason for the inspection."
   ]
  },
  {
   "cell_type": "code",
   "execution_count": 98,
   "metadata": {},
   "outputs": [],
   "source": [
    "import pandas as pd"
   ]
  },
  {
   "cell_type": "code",
   "execution_count": 99,
   "metadata": {},
   "outputs": [],
   "source": [
    "%matplotlib inline\n",
    "\n",
    "import matplotlib as mpl\n",
    "mpl.rcParams[\"figure.figsize\"] = (6, 6)"
   ]
  },
  {
   "cell_type": "code",
   "execution_count": 103,
   "metadata": {},
   "outputs": [],
   "source": [
    "restaurants = pd.read_csv(\"restaurant-and-market-health-violations.csv\")"
   ]
  },
  {
   "cell_type": "code",
   "execution_count": 104,
   "metadata": {},
   "outputs": [
    {
     "data": {
      "text/plain": [
       "(65534, 25)"
      ]
     },
     "execution_count": 104,
     "metadata": {},
     "output_type": "execute_result"
    }
   ],
   "source": [
    "restaurants.shape"
   ]
  },
  {
   "cell_type": "code",
   "execution_count": 105,
   "metadata": {},
   "outputs": [
    {
     "data": {
      "text/plain": [
       "serial_number            object\n",
       "activity_date            object\n",
       "facility_name            object\n",
       "violation_code           object\n",
       "violation_description    object\n",
       "violation_status         object\n",
       "points                    int64\n",
       "grade                    object\n",
       "facility_address         object\n",
       "facility_city            object\n",
       "facility_id              object\n",
       "facility_state           object\n",
       "facility_zip             object\n",
       "employee_id              object\n",
       "owner_id                 object\n",
       "owner_name               object\n",
       "pe_description           object\n",
       "program_element_pe        int64\n",
       "program_name             object\n",
       "program_status           object\n",
       "record_id                object\n",
       "score                     int64\n",
       "service_code              int64\n",
       "service_description      object\n",
       "row_id                   object\n",
       "dtype: object"
      ]
     },
     "execution_count": 105,
     "metadata": {},
     "output_type": "execute_result"
    }
   ],
   "source": [
    "restaurants.dtypes"
   ]
  },
  {
   "cell_type": "markdown",
   "metadata": {},
   "source": [
    "## Data Dictionary\n",
    "\n",
    "* serial_number            object\n",
    "* activity_date            object\n",
    "* facility_name            object\n",
    "* violation_code           object\n",
    "* violation_description    object\n",
    "* violation_status         object\n",
    "* points                    int64\n",
    "* grade                    object\n",
    "* facility_address         object\n",
    "* facility_city            object\n",
    "* facility_id              object\n",
    "* facility_state           object\n",
    "* facility_zip             object\n",
    "* employee_id              object\n",
    "* owner_id                 object\n",
    "* owner_name               object\n",
    "* pe_description           object\n",
    "* program_element_pe        int64\n",
    "* program_name             object\n",
    "* program_status           object\n",
    "* record_id                object\n",
    "* score                     int64\n",
    "* service_code              int64\n",
    "* service_description      object\n",
    "* row_id                   object"
   ]
  },
  {
   "cell_type": "markdown",
   "metadata": {},
   "source": [
    "## Entity Description\n",
    "\n",
    "* serial_number\n",
    "* facility_name\n",
    "* violation_code\n"
   ]
  },
  {
   "cell_type": "code",
   "execution_count": 107,
   "metadata": {},
   "outputs": [],
   "source": [
    "restaurants.to_csv(\"restaurant-and-market-health-violations.1.initial_process.csv\", index=False)"
   ]
  },
  {
   "cell_type": "code",
   "execution_count": 108,
   "metadata": {},
   "outputs": [],
   "source": [
    "restaurants['unique'] = restaurants.serial_number.str.cat([restaurants.facility_name, restaurants.violation_code], sep = \"-\")"
   ]
  },
  {
   "cell_type": "code",
   "execution_count": 109,
   "metadata": {},
   "outputs": [
    {
     "data": {
      "text/html": [
       "<div>\n",
       "<style scoped>\n",
       "    .dataframe tbody tr th:only-of-type {\n",
       "        vertical-align: middle;\n",
       "    }\n",
       "\n",
       "    .dataframe tbody tr th {\n",
       "        vertical-align: top;\n",
       "    }\n",
       "\n",
       "    .dataframe thead th {\n",
       "        text-align: right;\n",
       "    }\n",
       "</style>\n",
       "<table border=\"1\" class=\"dataframe\">\n",
       "  <thead>\n",
       "    <tr style=\"text-align: right;\">\n",
       "      <th></th>\n",
       "      <th>serial_number</th>\n",
       "      <th>facility_name</th>\n",
       "      <th>violation_code</th>\n",
       "      <th>owner_id</th>\n",
       "      <th>unique</th>\n",
       "    </tr>\n",
       "  </thead>\n",
       "  <tbody>\n",
       "    <tr>\n",
       "      <th>0</th>\n",
       "      <td>DA08R0TCU</td>\n",
       "      <td>KRUANG TEDD</td>\n",
       "      <td>F030</td>\n",
       "      <td>OW0001034</td>\n",
       "      <td>DA08R0TCU-KRUANG TEDD-F030</td>\n",
       "    </tr>\n",
       "    <tr>\n",
       "      <th>1</th>\n",
       "      <td>DA08R0TCU</td>\n",
       "      <td>KRUANG TEDD</td>\n",
       "      <td>F027</td>\n",
       "      <td>OW0001034</td>\n",
       "      <td>DA08R0TCU-KRUANG TEDD-F027</td>\n",
       "    </tr>\n",
       "    <tr>\n",
       "      <th>2</th>\n",
       "      <td>DA08R0TCU</td>\n",
       "      <td>KRUANG TEDD</td>\n",
       "      <td>F035</td>\n",
       "      <td>OW0001034</td>\n",
       "      <td>DA08R0TCU-KRUANG TEDD-F035</td>\n",
       "    </tr>\n",
       "    <tr>\n",
       "      <th>3</th>\n",
       "      <td>DA08R0TCU</td>\n",
       "      <td>KRUANG TEDD</td>\n",
       "      <td>F033</td>\n",
       "      <td>OW0001034</td>\n",
       "      <td>DA08R0TCU-KRUANG TEDD-F033</td>\n",
       "    </tr>\n",
       "    <tr>\n",
       "      <th>4</th>\n",
       "      <td>DA08R0TCU</td>\n",
       "      <td>KRUANG TEDD</td>\n",
       "      <td>F029</td>\n",
       "      <td>OW0001034</td>\n",
       "      <td>DA08R0TCU-KRUANG TEDD-F029</td>\n",
       "    </tr>\n",
       "  </tbody>\n",
       "</table>\n",
       "</div>"
      ],
      "text/plain": [
       "  serial_number facility_name violation_code   owner_id  \\\n",
       "0     DA08R0TCU   KRUANG TEDD           F030  OW0001034   \n",
       "1     DA08R0TCU   KRUANG TEDD           F027  OW0001034   \n",
       "2     DA08R0TCU   KRUANG TEDD           F035  OW0001034   \n",
       "3     DA08R0TCU   KRUANG TEDD           F033  OW0001034   \n",
       "4     DA08R0TCU   KRUANG TEDD           F029  OW0001034   \n",
       "\n",
       "                       unique  \n",
       "0  DA08R0TCU-KRUANG TEDD-F030  \n",
       "1  DA08R0TCU-KRUANG TEDD-F027  \n",
       "2  DA08R0TCU-KRUANG TEDD-F035  \n",
       "3  DA08R0TCU-KRUANG TEDD-F033  \n",
       "4  DA08R0TCU-KRUANG TEDD-F029  "
      ]
     },
     "execution_count": 109,
     "metadata": {},
     "output_type": "execute_result"
    }
   ],
   "source": [
    "restaurants[[\"serial_number\",\"facility_name\",\"violation_code\",\"owner_id\",\"unique\"]].head()"
   ]
  },
  {
   "cell_type": "code",
   "execution_count": 110,
   "metadata": {},
   "outputs": [
    {
     "data": {
      "text/plain": [
       "DAMEI2ZAL-ZUMA KITCHEN-F052                              1\n",
       "DAPNQXQCA-YARD HOUSE-F054                                1\n",
       "DABAUZJJR-NUMERO UNO MARKET (MEAT)-F023                  1\n",
       "DAAHSIEZP-SUBWAY #12851-F023                             1\n",
       "DAESPSJMG-MORRISON HEALTH CARE-F033                      1\n",
       "DAUEC8QLP-TAMARIND OF L.A.-F014                          1\n",
       "DAEMIJKI6-NORTHGATE MARKETS #38-F014                     1\n",
       "DAQIP0ZDM-FATBURGER # 109-F048                           1\n",
       "DAL0JSEOB-#1 DONUTS-F037                                 1\n",
       "DADTPNMXK-FATBURGER-F046                                 1\n",
       "DAQEM8UYZ-DOLLARMAX #5-F048                              1\n",
       "DARCOKCCM-DAILY DONUT-F055                               1\n",
       "DA00T6H2K-FENG MAO II-F035                               1\n",
       "DAOMFEOOH-FUNDAMENTAL LA-F044                            1\n",
       "DANWIUOGF-KAILEY'S RESTAURANT-F006                       1\n",
       "DAIY00S29-PATRA'S DRIVE-IN-F055                          1\n",
       "DAOKSGRRR-LA CREME CAFE-F035                             1\n",
       "DAQS6BYWX-RALPHS MARKET #210-F044                        1\n",
       "DAMZPUTOI-BLD-F044                                       1\n",
       "DA3LMR3FD-INT'L HOUSE OF PANCKAKES-F026                  1\n",
       "DAZDNXKIR-LA ZOO-F044                                    1\n",
       "DAWCPF4V5-SO CAL BURGERS-F037                            1\n",
       "DAHWG1NDL-YUMMY FOODS LLC-F044                           1\n",
       "DAUHXVQHR-NOODLE WORLD, JR-F035                          1\n",
       "DAWQQBC78-ROCK N FISH-F030                               1\n",
       "DAI9XO4D3-TOM N TOMS VERMONT GALLERIA-F044               1\n",
       "DAXW4OEHT-RANCE'S CHICAGO PIZZA-F036                     1\n",
       "DA06B3N03-CUORE DELL AMANTE-F040                         1\n",
       "DACFLP0GG-COFAX-F036                                     1\n",
       "DA930CFCM-DONTE'S AND YARETZI PRODUCE-F015               1\n",
       "                                                        ..\n",
       "DA2KN4AG0-VILLA SOMBRERO RESTAURANT IN-F039              1\n",
       "DAI009LZA-DORIS BAKERY-F038                              1\n",
       "DA0YNVHTR-EL DIABLO ANTOJITOS MEXICANOS-F054             1\n",
       "DAXQG4FGD-FATBURGER-F037                                 1\n",
       "DAVPEYAZE-PAVILIONS #2229-F044                           1\n",
       "DA5DN47ZB-LAS PERLAS MEZCAL BAR-F036                     1\n",
       "DAD5Z0TFD-KARABAGH MEAT MARKET-F032                      1\n",
       "DAMBGWPYY-CENTURY DONUTS-F036                            1\n",
       "DA97DU0FI-LE 42 CAFE LLC-F053                            1\n",
       "DAZ0U3MED-FOOD PICNIC DAY-F033                           1\n",
       "DAMUNWNG0-DAW YEE MYANMAR CORNER-F039                    1\n",
       "DAVTHIDHW-BEAU BAR-F037                                  1\n",
       "DAPMB21ID-RALPHS MARKET #48-F033                         1\n",
       "DAPT3WT5W-MCDONALD'S #10794-F037                         1\n",
       "DAOIY1OOA-HYPERION AVE TAVERN-F046                       1\n",
       "DACW2HYHR-EKKAMAI THAI RESTAURANT-F039                   1\n",
       "DAZ0TZ2EJ-MIKA SUSHI-F044                                1\n",
       "DAXJ7SQEB-PAT & LORRAINEIS COFFEE SHOP-F040              1\n",
       "DAFEVCTWC-RALPHS MARKET #210-F030                        1\n",
       "DARTFPEPS-THE FABIOLUS CAFE-F040                         1\n",
       "DAJGF6FLC-DAVES DELI-F033                                1\n",
       "DAJ1GQCEW-IFOOD CHINESE-F035                             1\n",
       "DANSWBWGM-CORDRAY'S BAKERY-F044                          1\n",
       "DAJXI0MIT-HERNANDEZ TACOS MEXICO-F014                    1\n",
       "DASRSDSQP-GOLF CLUBHOUSE GRIFFITH PARK-F037              1\n",
       "DAJ0OJMQO-BAJA FRESH-F030                                1\n",
       "DA62UAIRP-PIZZA HUT #26159-F035                          1\n",
       "DAYY8QONY-PASTELERIA Y PANADERIA EL PANON BAKERY-F034    1\n",
       "DA2Y48TNI-CONTINENTAL BAKERY-F030                        1\n",
       "DACAVO4C9-KBC BAKERY & DELI-F044                         1\n",
       "Name: unique, Length: 65534, dtype: int64"
      ]
     },
     "execution_count": 110,
     "metadata": {},
     "output_type": "execute_result"
    }
   ],
   "source": [
    "restaurants.unique.value_counts()"
   ]
  },
  {
   "cell_type": "code",
   "execution_count": 111,
   "metadata": {},
   "outputs": [
    {
     "data": {
      "text/plain": [
       "(0, 26)"
      ]
     },
     "execution_count": 111,
     "metadata": {},
     "output_type": "execute_result"
    }
   ],
   "source": [
    "restaurants[restaurants.duplicated()].shape"
   ]
  },
  {
   "cell_type": "code",
   "execution_count": 112,
   "metadata": {},
   "outputs": [],
   "source": [
    "#no duplicates\n",
    "del restaurants['unique']"
   ]
  },
  {
   "cell_type": "code",
   "execution_count": 113,
   "metadata": {},
   "outputs": [
    {
     "name": "stdout",
     "output_type": "stream",
     "text": [
      "serial_number(object) | COMMON: 0.03%| UNCOMMON:1 observation/s\n",
      "activity_date(object) | COMMON: 1.12%| UNCOMMON:1 observation/s\n",
      "facility_name(object) | COMMON: 0.63%| UNCOMMON:1 observation/s\n",
      "violation_code(object) | COMMON: 11.17%| UNCOMMON:1 observation/s\n",
      "violation_description(object) | COMMON: 11.17%| UNCOMMON:1 observation/s\n",
      "violation_status(object) | COMMON: 100.00%| UNCOMMON:1 observation/s\n",
      "points(int64) | COMMON: 74.58%| UNCOMMON:221 observation/s\n",
      "grade(object) | COMMON: 86.86%| UNCOMMON:1158 observation/s\n",
      "facility_address(object) | COMMON: 0.63%| UNCOMMON:1 observation/s\n",
      "facility_city(object) | COMMON: 100.00%| UNCOMMON:65534 observation/s\n",
      "facility_id(object) | COMMON: 0.63%| UNCOMMON:1 observation/s\n",
      "facility_state(object) | COMMON: 100.00%| UNCOMMON:65534 observation/s\n",
      "facility_zip(object) | COMMON: 4.35%| UNCOMMON:1 observation/s\n",
      "employee_id(object) | COMMON: 7.51%| UNCOMMON:1 observation/s\n",
      "owner_id(object) | COMMON: 0.63%| UNCOMMON:1 observation/s\n",
      "owner_name(object) | COMMON: 0.73%| UNCOMMON:1 observation/s\n",
      "pe_description(object) | COMMON: 27.16%| UNCOMMON:1 observation/s\n",
      "program_element_pe(int64) | COMMON: 27.16%| UNCOMMON:85 observation/s\n",
      "program_name(object) | COMMON: 0.17%| UNCOMMON:1 observation/s\n",
      "program_status(object) | COMMON: 97.18%| UNCOMMON:1850 observation/s\n",
      "record_id(object) | COMMON: 0.06%| UNCOMMON:1 observation/s\n",
      "score(int64) | COMMON: 19.91%| UNCOMMON:5 observation/s\n",
      "service_code(int64) | COMMON: 97.98%| UNCOMMON:1323 observation/s\n",
      "service_description(object) | COMMON: 97.98%| UNCOMMON:1323 observation/s\n",
      "row_id(object) | COMMON: 0.00%| UNCOMMON:1 observation/s\n"
     ]
    }
   ],
   "source": [
    "n_records = len(restaurants)\n",
    "def duplicate_values_col(df):\n",
    "    for column in df:\n",
    "        column_counts = df[column].value_counts()\n",
    "        most_common = column_counts.iloc[0]\n",
    "        least_common = column_counts.iloc[-1]\n",
    "        print(\"{}({}) | COMMON: {:.2f}%| UNCOMMON:{} observation/s\".format(\n",
    "            df[column].name,\n",
    "            df[column].dtype,\n",
    "            100 * most_common / (1.0 * n_records),\n",
    "            least_common,\n",
    "        ))\n",
    "\n",
    "duplicate_values_col(restaurants)"
   ]
  },
  {
   "cell_type": "markdown",
   "metadata": {},
   "source": [
    "### Low Cardinality\n",
    "* points\n",
    "* grade\n",
    "* facility_city \n",
    "* facility_state\n",
    "* program_status, \n",
    "* service_code\n",
    "* service_description"
   ]
  },
  {
   "cell_type": "code",
   "execution_count": 114,
   "metadata": {},
   "outputs": [
    {
     "data": {
      "text/plain": [
       "1     0.745781\n",
       "2     0.189413\n",
       "4     0.042817\n",
       "0     0.014878\n",
       "11    0.003739\n",
       "3     0.003372\n",
       "Name: points, dtype: float64"
      ]
     },
     "execution_count": 114,
     "metadata": {},
     "output_type": "execute_result"
    }
   ],
   "source": [
    "restaurants.points.value_counts(normalize = True)"
   ]
  },
  {
   "cell_type": "code",
   "execution_count": 115,
   "metadata": {},
   "outputs": [],
   "source": [
    "#most restaurants received one point for violations"
   ]
  },
  {
   "cell_type": "code",
   "execution_count": 116,
   "metadata": {},
   "outputs": [
    {
     "data": {
      "image/png": "[encoded data removed]",
      "text/plain": [
       "<Figure size 432x432 with 1 Axes>"
      ]
     },
     "metadata": {
      "needs_background": "light"
     },
     "output_type": "display_data"
    }
   ],
   "source": [
    "restaurants.grade.value_counts(normalize=True).plot.barh();"
   ]
  },
  {
   "cell_type": "markdown",
   "metadata": {},
   "source": [
    "\n",
    "* low cardinality: grades received by LA restaurants are A's, B's, and C's"
   ]
  },
  {
   "cell_type": "code",
   "execution_count": 117,
   "metadata": {},
   "outputs": [
    {
     "data": {
      "image/png": "[encoded data removed]",
      "text/plain": [
       "<Figure size 432x432 with 1 Axes>"
      ]
     },
     "metadata": {
      "needs_background": "light"
     },
     "output_type": "display_data"
    }
   ],
   "source": [
    "restaurants.program_status.value_counts(normalize=True).plot.barh();"
   ]
  },
  {
   "cell_type": "markdown",
   "metadata": {},
   "source": [
    "* low cardinality: inactive or active for program_status"
   ]
  },
  {
   "cell_type": "code",
   "execution_count": 118,
   "metadata": {},
   "outputs": [
    {
     "name": "stdout",
     "output_type": "stream",
     "text": [
      "serial_number | 0.0 | object\n",
      "activity_date | 0.0 | object\n",
      "facility_name | 0.0 | object\n",
      "violation_code | 0.0 | object\n",
      "violation_description | 0.0 | object\n",
      "violation_status | 0.0 | object\n",
      "points | 0.0 | int64\n",
      "grade | 0.0 | object\n",
      "facility_address | 0.0 | object\n",
      "facility_city | 0.0 | object\n",
      "facility_id | 0.0 | object\n",
      "facility_state | 0.0 | object\n",
      "facility_zip | 0.0 | object\n",
      "employee_id | 0.0 | object\n",
      "owner_id | 0.0 | object\n",
      "owner_name | 0.0 | object\n",
      "pe_description | 0.0 | object\n",
      "program_element_pe | 0.0 | int64\n",
      "program_name | 0.0 | object\n",
      "program_status | 0.0 | object\n",
      "record_id | 0.0 | object\n",
      "score | 0.0 | int64\n",
      "service_code | 0.0 | int64\n",
      "service_description | 0.0 | object\n",
      "row_id | 0.0 | object\n"
     ]
    }
   ],
   "source": [
    "n_records = len(restaurants)\n",
    "def missing_values_df(df):\n",
    "    for column in df:\n",
    "        print(\"{} | {} | {}\".format(\n",
    "            column, len(df[df[column].isnull()]) / (1.0*n_records), df[column].dtype\n",
    "        ))\n",
    "\n",
    "missing_values_df(restaurants)"
   ]
  },
  {
   "cell_type": "markdown",
   "metadata": {},
   "source": [
    "* no missing values in all columns"
   ]
  },
  {
   "cell_type": "code",
   "execution_count": 119,
   "metadata": {},
   "outputs": [],
   "source": [
    "from scipy import stats\n",
    "import numpy as np"
   ]
  },
  {
   "cell_type": "code",
   "execution_count": 120,
   "metadata": {},
   "outputs": [
    {
     "name": "stdout",
     "output_type": "stream",
     "text": [
      "the average for column points is 1.347117526779992\n"
     ]
    },
    {
     "data": {
      "text/html": [
       "<div>\n",
       "<style scoped>\n",
       "    .dataframe tbody tr th:only-of-type {\n",
       "        vertical-align: middle;\n",
       "    }\n",
       "\n",
       "    .dataframe tbody tr th {\n",
       "        vertical-align: top;\n",
       "    }\n",
       "\n",
       "    .dataframe thead th {\n",
       "        text-align: right;\n",
       "    }\n",
       "</style>\n",
       "<table border=\"1\" class=\"dataframe\">\n",
       "  <thead>\n",
       "    <tr style=\"text-align: right;\">\n",
       "      <th></th>\n",
       "      <th>serial_number</th>\n",
       "      <th>activity_date</th>\n",
       "      <th>facility_name</th>\n",
       "      <th>violation_code</th>\n",
       "      <th>violation_description</th>\n",
       "      <th>violation_status</th>\n",
       "      <th>points</th>\n",
       "      <th>grade</th>\n",
       "      <th>facility_address</th>\n",
       "      <th>facility_city</th>\n",
       "      <th>...</th>\n",
       "      <th>owner_name</th>\n",
       "      <th>pe_description</th>\n",
       "      <th>program_element_pe</th>\n",
       "      <th>program_name</th>\n",
       "      <th>program_status</th>\n",
       "      <th>record_id</th>\n",
       "      <th>score</th>\n",
       "      <th>service_code</th>\n",
       "      <th>service_description</th>\n",
       "      <th>row_id</th>\n",
       "    </tr>\n",
       "  </thead>\n",
       "  <tbody>\n",
       "    <tr>\n",
       "      <th>336</th>\n",
       "      <td>DACZOX7XY</td>\n",
       "      <td>2018-03-29T00:00:00.000</td>\n",
       "      <td>CHUNG KING CAFE HOUSE</td>\n",
       "      <td>F023</td>\n",
       "      <td># 23. No rodents, insects, birds, or animals</td>\n",
       "      <td>OUT OF COMPLIANCE</td>\n",
       "      <td>11</td>\n",
       "      <td>C</td>\n",
       "      <td>4578 WHITTIER BLVD</td>\n",
       "      <td>LOS ANGELES</td>\n",
       "      <td>...</td>\n",
       "      <td>L &amp; J CUISINE INC.</td>\n",
       "      <td>RESTAURANT (31-60) SEATS HIGH RISK</td>\n",
       "      <td>1635</td>\n",
       "      <td>CHUNG KING CAFE HOUSE</td>\n",
       "      <td>ACTIVE</td>\n",
       "      <td>PR0177919</td>\n",
       "      <td>71</td>\n",
       "      <td>1</td>\n",
       "      <td>ROUTINE INSPECTION</td>\n",
       "      <td>DACZOX7XYF023</td>\n",
       "    </tr>\n",
       "    <tr>\n",
       "      <th>718</th>\n",
       "      <td>DAECNUPEV</td>\n",
       "      <td>2018-03-28T00:00:00.000</td>\n",
       "      <td>LITTLE CAESAR'S PIZZA #5901</td>\n",
       "      <td>F023</td>\n",
       "      <td># 23. No rodents, insects, birds, or animals</td>\n",
       "      <td>OUT OF COMPLIANCE</td>\n",
       "      <td>11</td>\n",
       "      <td>B</td>\n",
       "      <td>900 N VERMONT AVE</td>\n",
       "      <td>LOS ANGELES</td>\n",
       "      <td>...</td>\n",
       "      <td>LITTLE CAESAR, INC</td>\n",
       "      <td>RESTAURANT (0-30) SEATS MODERATE RISK</td>\n",
       "      <td>1631</td>\n",
       "      <td>LITTLE CAESAR'S PIZZA #5901</td>\n",
       "      <td>ACTIVE</td>\n",
       "      <td>PR0032599</td>\n",
       "      <td>86</td>\n",
       "      <td>1</td>\n",
       "      <td>ROUTINE INSPECTION</td>\n",
       "      <td>DAECNUPEVF023</td>\n",
       "    </tr>\n",
       "    <tr>\n",
       "      <th>1746</th>\n",
       "      <td>DAGWQH0XG</td>\n",
       "      <td>2018-03-22T00:00:00.000</td>\n",
       "      <td>POLLITOS DELI</td>\n",
       "      <td>F023</td>\n",
       "      <td># 23. No rodents, insects, birds, or animals</td>\n",
       "      <td>OUT OF COMPLIANCE</td>\n",
       "      <td>11</td>\n",
       "      <td>C</td>\n",
       "      <td>7609 S MAIN ST</td>\n",
       "      <td>LOS ANGELES</td>\n",
       "      <td>...</td>\n",
       "      <td>MIRIAM GARCIA</td>\n",
       "      <td>RESTAURANT (0-30) SEATS MODERATE RISK</td>\n",
       "      <td>1631</td>\n",
       "      <td>POLLITOS DELI</td>\n",
       "      <td>ACTIVE</td>\n",
       "      <td>PR0206156</td>\n",
       "      <td>77</td>\n",
       "      <td>1</td>\n",
       "      <td>ROUTINE INSPECTION</td>\n",
       "      <td>DAGWQH0XGF023</td>\n",
       "    </tr>\n",
       "    <tr>\n",
       "      <th>1796</th>\n",
       "      <td>DALIZXELZ</td>\n",
       "      <td>2018-03-22T00:00:00.000</td>\n",
       "      <td>EAST LA MARKET &amp; LIQUOR</td>\n",
       "      <td>F023</td>\n",
       "      <td># 23. No rodents, insects, birds, or animals</td>\n",
       "      <td>OUT OF COMPLIANCE</td>\n",
       "      <td>11</td>\n",
       "      <td>B</td>\n",
       "      <td>530 N FICKETT ST</td>\n",
       "      <td>LOS ANGELES</td>\n",
       "      <td>...</td>\n",
       "      <td>MANPREET SINGH</td>\n",
       "      <td>FOOD MKT RETAIL (25-1,999 SF) LOW RISK</td>\n",
       "      <td>1610</td>\n",
       "      <td>EAST LA MARKET &amp; LIQUOR</td>\n",
       "      <td>ACTIVE</td>\n",
       "      <td>PR0206776</td>\n",
       "      <td>83</td>\n",
       "      <td>1</td>\n",
       "      <td>ROUTINE INSPECTION</td>\n",
       "      <td>DALIZXELZF023</td>\n",
       "    </tr>\n",
       "    <tr>\n",
       "      <th>2078</th>\n",
       "      <td>DAAZQLCIB</td>\n",
       "      <td>2018-03-21T00:00:00.000</td>\n",
       "      <td>LA INCOMPARABLE MARKET</td>\n",
       "      <td>F023</td>\n",
       "      <td># 23. No rodents, insects, birds, or animals</td>\n",
       "      <td>OUT OF COMPLIANCE</td>\n",
       "      <td>11</td>\n",
       "      <td>C</td>\n",
       "      <td>4140 WHITTIER BLVD</td>\n",
       "      <td>LOS ANGELES</td>\n",
       "      <td>...</td>\n",
       "      <td>LIEN C LAM</td>\n",
       "      <td>FOOD MKT RETAIL (2,000+ SF) HIGH RISK</td>\n",
       "      <td>1615</td>\n",
       "      <td>LA INCOMPARABLE MARKET</td>\n",
       "      <td>ACTIVE</td>\n",
       "      <td>PR0206192</td>\n",
       "      <td>72</td>\n",
       "      <td>1</td>\n",
       "      <td>ROUTINE INSPECTION</td>\n",
       "      <td>DAAZQLCIBF023</td>\n",
       "    </tr>\n",
       "    <tr>\n",
       "      <th>2321</th>\n",
       "      <td>DAO0SNRCG</td>\n",
       "      <td>2018-03-21T00:00:00.000</td>\n",
       "      <td>OK CHINESE FOOD FRIED CHICKEN AND HAMBURGER</td>\n",
       "      <td>F023</td>\n",
       "      <td># 23. No rodents, insects, birds, or animals</td>\n",
       "      <td>OUT OF COMPLIANCE</td>\n",
       "      <td>11</td>\n",
       "      <td>B</td>\n",
       "      <td>3592 E 1ST ST</td>\n",
       "      <td>LOS ANGELES</td>\n",
       "      <td>...</td>\n",
       "      <td>YOULA TAING</td>\n",
       "      <td>RESTAURANT (0-30) SEATS HIGH RISK</td>\n",
       "      <td>1632</td>\n",
       "      <td>OK CHINESE FOOD FRIED CHICKEN AND HAMBURGER</td>\n",
       "      <td>ACTIVE</td>\n",
       "      <td>PR0164925</td>\n",
       "      <td>86</td>\n",
       "      <td>1</td>\n",
       "      <td>ROUTINE INSPECTION</td>\n",
       "      <td>DAO0SNRCGF023</td>\n",
       "    </tr>\n",
       "    <tr>\n",
       "      <th>2774</th>\n",
       "      <td>DAHDGL9NP</td>\n",
       "      <td>2018-03-20T00:00:00.000</td>\n",
       "      <td>EL RINCON OAXAQUENO</td>\n",
       "      <td>F023</td>\n",
       "      <td># 23. No rodents, insects, birds, or animals</td>\n",
       "      <td>OUT OF COMPLIANCE</td>\n",
       "      <td>11</td>\n",
       "      <td>B</td>\n",
       "      <td>1544 N WESTERN AVE</td>\n",
       "      <td>LOS ANGELES</td>\n",
       "      <td>...</td>\n",
       "      <td>CRUZ, FILBERTO</td>\n",
       "      <td>RESTAURANT (31-60) SEATS HIGH RISK</td>\n",
       "      <td>1635</td>\n",
       "      <td>EL RINCON OAXAQUENO</td>\n",
       "      <td>ACTIVE</td>\n",
       "      <td>PR0046717</td>\n",
       "      <td>85</td>\n",
       "      <td>1</td>\n",
       "      <td>ROUTINE INSPECTION</td>\n",
       "      <td>DAHDGL9NPF023</td>\n",
       "    </tr>\n",
       "    <tr>\n",
       "      <th>2906</th>\n",
       "      <td>DAIG5H0X5</td>\n",
       "      <td>2018-01-10T00:00:00.000</td>\n",
       "      <td>GOOPOJIB</td>\n",
       "      <td>F023</td>\n",
       "      <td># 23. No rodents, insects, birds, or animals</td>\n",
       "      <td>OUT OF COMPLIANCE</td>\n",
       "      <td>11</td>\n",
       "      <td>B</td>\n",
       "      <td>3071 W 8TH ST</td>\n",
       "      <td>LOS ANGELES</td>\n",
       "      <td>...</td>\n",
       "      <td>EUN JU PARK</td>\n",
       "      <td>RESTAURANT (0-30) SEATS HIGH RISK</td>\n",
       "      <td>1632</td>\n",
       "      <td>GOOPOJIB</td>\n",
       "      <td>ACTIVE</td>\n",
       "      <td>PR0144504</td>\n",
       "      <td>83</td>\n",
       "      <td>1</td>\n",
       "      <td>ROUTINE INSPECTION</td>\n",
       "      <td>DAIG5H0X5F023</td>\n",
       "    </tr>\n",
       "    <tr>\n",
       "      <th>3304</th>\n",
       "      <td>DARTQ0HEU</td>\n",
       "      <td>2018-03-19T00:00:00.000</td>\n",
       "      <td>PAULS KITCHEN</td>\n",
       "      <td>F023</td>\n",
       "      <td># 23. No rodents, insects, birds, or animals</td>\n",
       "      <td>OUT OF COMPLIANCE</td>\n",
       "      <td>11</td>\n",
       "      <td>B</td>\n",
       "      <td>1012 S SAN PEDRO ST</td>\n",
       "      <td>LOS ANGELES</td>\n",
       "      <td>...</td>\n",
       "      <td>ENTERPRISES INC</td>\n",
       "      <td>RESTAURANT (61-150) SEATS HIGH RISK</td>\n",
       "      <td>1638</td>\n",
       "      <td>PAULS KITCHEN</td>\n",
       "      <td>ACTIVE</td>\n",
       "      <td>PR0015108</td>\n",
       "      <td>88</td>\n",
       "      <td>1</td>\n",
       "      <td>ROUTINE INSPECTION</td>\n",
       "      <td>DARTQ0HEUF023</td>\n",
       "    </tr>\n",
       "    <tr>\n",
       "      <th>3572</th>\n",
       "      <td>DARKJUXOX</td>\n",
       "      <td>2018-03-16T00:00:00.000</td>\n",
       "      <td>MELROSE SHELL #0409</td>\n",
       "      <td>F022</td>\n",
       "      <td># 22. Sewage and wastewater properly disposed</td>\n",
       "      <td>OUT OF COMPLIANCE</td>\n",
       "      <td>11</td>\n",
       "      <td>B</td>\n",
       "      <td>4501 MELROSE AVE</td>\n",
       "      <td>LOS ANGELES</td>\n",
       "      <td>...</td>\n",
       "      <td>RADC ENTERPRISES INC</td>\n",
       "      <td>FOOD MKT RETAIL (25-1,999 SF) LOW RISK</td>\n",
       "      <td>1610</td>\n",
       "      <td>MELROSE SHELL #0409</td>\n",
       "      <td>ACTIVE</td>\n",
       "      <td>PR0196466</td>\n",
       "      <td>84</td>\n",
       "      <td>1</td>\n",
       "      <td>ROUTINE INSPECTION</td>\n",
       "      <td>DARKJUXOXF022</td>\n",
       "    </tr>\n",
       "  </tbody>\n",
       "</table>\n",
       "<p>10 rows × 25 columns</p>\n",
       "</div>"
      ],
      "text/plain": [
       "     serial_number            activity_date  \\\n",
       "336      DACZOX7XY  2018-03-29T00:00:00.000   \n",
       "718      DAECNUPEV  2018-03-28T00:00:00.000   \n",
       "1746     DAGWQH0XG  2018-03-22T00:00:00.000   \n",
       "1796     DALIZXELZ  2018-03-22T00:00:00.000   \n",
       "2078     DAAZQLCIB  2018-03-21T00:00:00.000   \n",
       "2321     DAO0SNRCG  2018-03-21T00:00:00.000   \n",
       "2774     DAHDGL9NP  2018-03-20T00:00:00.000   \n",
       "2906     DAIG5H0X5  2018-01-10T00:00:00.000   \n",
       "3304     DARTQ0HEU  2018-03-19T00:00:00.000   \n",
       "3572     DARKJUXOX  2018-03-16T00:00:00.000   \n",
       "\n",
       "                                    facility_name violation_code  \\\n",
       "336                         CHUNG KING CAFE HOUSE           F023   \n",
       "718                   LITTLE CAESAR'S PIZZA #5901           F023   \n",
       "1746                                POLLITOS DELI           F023   \n",
       "1796                      EAST LA MARKET & LIQUOR           F023   \n",
       "2078                       LA INCOMPARABLE MARKET           F023   \n",
       "2321  OK CHINESE FOOD FRIED CHICKEN AND HAMBURGER           F023   \n",
       "2774                          EL RINCON OAXAQUENO           F023   \n",
       "2906                                     GOOPOJIB           F023   \n",
       "3304                                PAULS KITCHEN           F023   \n",
       "3572                          MELROSE SHELL #0409           F022   \n",
       "\n",
       "                              violation_description   violation_status  \\\n",
       "336    # 23. No rodents, insects, birds, or animals  OUT OF COMPLIANCE   \n",
       "718    # 23. No rodents, insects, birds, or animals  OUT OF COMPLIANCE   \n",
       "1746   # 23. No rodents, insects, birds, or animals  OUT OF COMPLIANCE   \n",
       "1796   # 23. No rodents, insects, birds, or animals  OUT OF COMPLIANCE   \n",
       "2078   # 23. No rodents, insects, birds, or animals  OUT OF COMPLIANCE   \n",
       "2321   # 23. No rodents, insects, birds, or animals  OUT OF COMPLIANCE   \n",
       "2774   # 23. No rodents, insects, birds, or animals  OUT OF COMPLIANCE   \n",
       "2906   # 23. No rodents, insects, birds, or animals  OUT OF COMPLIANCE   \n",
       "3304   # 23. No rodents, insects, birds, or animals  OUT OF COMPLIANCE   \n",
       "3572  # 22. Sewage and wastewater properly disposed  OUT OF COMPLIANCE   \n",
       "\n",
       "      points grade     facility_address facility_city  ...  \\\n",
       "336       11     C   4578 WHITTIER BLVD   LOS ANGELES  ...   \n",
       "718       11     B    900 N VERMONT AVE   LOS ANGELES  ...   \n",
       "1746      11     C       7609 S MAIN ST   LOS ANGELES  ...   \n",
       "1796      11     B     530 N FICKETT ST   LOS ANGELES  ...   \n",
       "2078      11     C   4140 WHITTIER BLVD   LOS ANGELES  ...   \n",
       "2321      11     B        3592 E 1ST ST   LOS ANGELES  ...   \n",
       "2774      11     B   1544 N WESTERN AVE   LOS ANGELES  ...   \n",
       "2906      11     B        3071 W 8TH ST   LOS ANGELES  ...   \n",
       "3304      11     B  1012 S SAN PEDRO ST   LOS ANGELES  ...   \n",
       "3572      11     B     4501 MELROSE AVE   LOS ANGELES  ...   \n",
       "\n",
       "                owner_name                          pe_description  \\\n",
       "336     L & J CUISINE INC.      RESTAURANT (31-60) SEATS HIGH RISK   \n",
       "718     LITTLE CAESAR, INC   RESTAURANT (0-30) SEATS MODERATE RISK   \n",
       "1746         MIRIAM GARCIA   RESTAURANT (0-30) SEATS MODERATE RISK   \n",
       "1796        MANPREET SINGH  FOOD MKT RETAIL (25-1,999 SF) LOW RISK   \n",
       "2078            LIEN C LAM   FOOD MKT RETAIL (2,000+ SF) HIGH RISK   \n",
       "2321           YOULA TAING       RESTAURANT (0-30) SEATS HIGH RISK   \n",
       "2774        CRUZ, FILBERTO      RESTAURANT (31-60) SEATS HIGH RISK   \n",
       "2906           EUN JU PARK       RESTAURANT (0-30) SEATS HIGH RISK   \n",
       "3304       ENTERPRISES INC     RESTAURANT (61-150) SEATS HIGH RISK   \n",
       "3572  RADC ENTERPRISES INC  FOOD MKT RETAIL (25-1,999 SF) LOW RISK   \n",
       "\n",
       "     program_element_pe                                 program_name  \\\n",
       "336                1635                        CHUNG KING CAFE HOUSE   \n",
       "718                1631                  LITTLE CAESAR'S PIZZA #5901   \n",
       "1746               1631                                POLLITOS DELI   \n",
       "1796               1610                      EAST LA MARKET & LIQUOR   \n",
       "2078               1615                       LA INCOMPARABLE MARKET   \n",
       "2321               1632  OK CHINESE FOOD FRIED CHICKEN AND HAMBURGER   \n",
       "2774               1635                          EL RINCON OAXAQUENO   \n",
       "2906               1632                                     GOOPOJIB   \n",
       "3304               1638                                PAULS KITCHEN   \n",
       "3572               1610                          MELROSE SHELL #0409   \n",
       "\n",
       "     program_status  record_id score  service_code service_description  \\\n",
       "336          ACTIVE  PR0177919    71             1  ROUTINE INSPECTION   \n",
       "718          ACTIVE  PR0032599    86             1  ROUTINE INSPECTION   \n",
       "1746         ACTIVE  PR0206156    77             1  ROUTINE INSPECTION   \n",
       "1796         ACTIVE  PR0206776    83             1  ROUTINE INSPECTION   \n",
       "2078         ACTIVE  PR0206192    72             1  ROUTINE INSPECTION   \n",
       "2321         ACTIVE  PR0164925    86             1  ROUTINE INSPECTION   \n",
       "2774         ACTIVE  PR0046717    85             1  ROUTINE INSPECTION   \n",
       "2906         ACTIVE  PR0144504    83             1  ROUTINE INSPECTION   \n",
       "3304         ACTIVE  PR0015108    88             1  ROUTINE INSPECTION   \n",
       "3572         ACTIVE  PR0196466    84             1  ROUTINE INSPECTION   \n",
       "\n",
       "             row_id  \n",
       "336   DACZOX7XYF023  \n",
       "718   DAECNUPEVF023  \n",
       "1746  DAGWQH0XGF023  \n",
       "1796  DALIZXELZF023  \n",
       "2078  DAAZQLCIBF023  \n",
       "2321  DAO0SNRCGF023  \n",
       "2774  DAHDGL9NPF023  \n",
       "2906  DAIG5H0X5F023  \n",
       "3304  DARTQ0HEUF023  \n",
       "3572  DARKJUXOXF022  \n",
       "\n",
       "[10 rows x 25 columns]"
      ]
     },
     "execution_count": 120,
     "metadata": {},
     "output_type": "execute_result"
    }
   ],
   "source": [
    "# we can take a sample column to see its outliers\n",
    "column = \"points\"\n",
    "print(f\"the average for column {column} is {restaurants[column].mean()}\")\n",
    "#we consider outliers those observations with a z score (absolute) greater than 3\n",
    "restaurants[(np.abs(stats.zscore(restaurants[column])) > 3)].head(10)"
   ]
  },
  {
   "cell_type": "code",
   "execution_count": 121,
   "metadata": {},
   "outputs": [
    {
     "name": "stdout",
     "output_type": "stream",
     "text": [
      "points | 245 | int64\n",
      "program_element_pe | 0 | int64\n",
      "score | 1122 | int64\n",
      "service_code | 1323 | int64\n"
     ]
    }
   ],
   "source": [
    "from scipy import stats\n",
    "import numpy as np\n",
    "\n",
    "def outliers_col(df):\n",
    "    for column in df:\n",
    "        if df[column].dtype != np.object:\n",
    "            n_outliers = len(df[(np.abs(stats.zscore(df[column])) > 3)& \\\n",
    "                  (df[column].notnull())\n",
    "                 ])\n",
    "            print(\"{} | {} | {}\".format(\n",
    "                df[column].name,\n",
    "                n_outliers,\n",
    "                df[column].dtype\n",
    "        ))\n",
    "\n",
    "outliers_col(restaurants)"
   ]
  },
  {
   "cell_type": "code",
   "execution_count": 122,
   "metadata": {},
   "outputs": [
    {
     "data": {
      "image/png": "[encoded data removed]",
      "text/plain": [
       "<Figure size 432x432 with 1 Axes>"
      ]
     },
     "metadata": {
      "needs_background": "light"
     },
     "output_type": "display_data"
    }
   ],
   "source": [
    "restaurants.boxplot(column='points');"
   ]
  },
  {
   "cell_type": "code",
   "execution_count": 123,
   "metadata": {},
   "outputs": [
    {
     "data": {
      "image/png": "[encoded data removed]",
      "text/plain": [
       "<Figure size 432x432 with 1 Axes>"
      ]
     },
     "metadata": {
      "needs_background": "light"
     },
     "output_type": "display_data"
    }
   ],
   "source": [
    "restaurants.boxplot(column='program_element_pe');"
   ]
  },
  {
   "cell_type": "code",
   "execution_count": 124,
   "metadata": {},
   "outputs": [
    {
     "data": {
      "image/png": "[encoded data removed]",
      "text/plain": [
       "<Figure size 432x432 with 1 Axes>"
      ]
     },
     "metadata": {
      "needs_background": "light"
     },
     "output_type": "display_data"
    }
   ],
   "source": [
    "restaurants.boxplot(column='score');"
   ]
  },
  {
   "cell_type": "code",
   "execution_count": 125,
   "metadata": {},
   "outputs": [
    {
     "data": {
      "image/png": "[encoded data removed]",
      "text/plain": [
       "<Figure size 432x432 with 1 Axes>"
      ]
     },
     "metadata": {
      "needs_background": "light"
     },
     "output_type": "display_data"
    }
   ],
   "source": [
    "restaurants.boxplot(column='service_code');"
   ]
  },
  {
   "cell_type": "code",
   "execution_count": 126,
   "metadata": {},
   "outputs": [
    {
     "data": {
      "text/plain": [
       "array(['C', 'B'], dtype=object)"
      ]
     },
     "execution_count": 126,
     "metadata": {},
     "output_type": "execute_result"
    }
   ],
   "source": [
    "restaurants[restaurants.points == 11].grade.unique()"
   ]
  },
  {
   "cell_type": "code",
   "execution_count": 127,
   "metadata": {},
   "outputs": [
    {
     "data": {
      "text/plain": [
       "array(['A', 'B', 'C'], dtype=object)"
      ]
     },
     "execution_count": 127,
     "metadata": {},
     "output_type": "execute_result"
    }
   ],
   "source": [
    "restaurants.grade.unique()"
   ]
  },
  {
   "cell_type": "code",
   "execution_count": 128,
   "metadata": {},
   "outputs": [],
   "source": [
    "too_many_violations = restaurants[restaurants.points > 4]"
   ]
  },
  {
   "cell_type": "code",
   "execution_count": 129,
   "metadata": {},
   "outputs": [
    {
     "name": "stdout",
     "output_type": "stream",
     "text": [
      "points | 0 | int64\n",
      "program_element_pe | 0 | int64\n",
      "score | 3 | int64\n",
      "service_code | 6 | int64\n"
     ]
    },
    {
     "name": "stderr",
     "output_type": "stream",
     "text": [
      "/Users/jerenbaum/anaconda3/lib/python3.7/site-packages/scipy/stats/stats.py:2281: RuntimeWarning: invalid value encountered in true_divide\n",
      "  return (a - mns) / sstd\n",
      "/Users/jerenbaum/anaconda3/lib/python3.7/site-packages/ipykernel_launcher.py:7: RuntimeWarning: invalid value encountered in greater\n",
      "  import sys\n"
     ]
    }
   ],
   "source": [
    "outliers_col(too_many_violations)"
   ]
  },
  {
   "cell_type": "code",
   "execution_count": 130,
   "metadata": {},
   "outputs": [
    {
     "data": {
      "text/plain": [
       "11    1.0\n",
       "Name: points, dtype: float64"
      ]
     },
     "execution_count": 130,
     "metadata": {},
     "output_type": "execute_result"
    }
   ],
   "source": [
    "too_many_violations[np.abs(stats.zscore(too_many_violations['service_code'])) > 3].points.value_counts(normalize = True)"
   ]
  },
  {
   "cell_type": "markdown",
   "metadata": {},
   "source": [
    "### Conclusion"
   ]
  },
  {
   "cell_type": "markdown",
   "metadata": {},
   "source": [
    "* There are no duplicate rows to remove.\n",
    "* A majority of the restaurants received a 1 point violation.\n",
    "* There are outliers in score and service_code."
   ]
  },
  {
   "cell_type": "code",
   "execution_count": 131,
   "metadata": {},
   "outputs": [],
   "source": [
    "import pandas as pd\n",
    "import numpy as np"
   ]
  },
  {
   "cell_type": "code",
   "execution_count": 132,
   "metadata": {},
   "outputs": [],
   "source": [
    "%matplotlib inline\n",
    "import matplotlib.pyplot as plt\n",
    "\n",
    "plt.rcParams['figure.figsize'] = (6,6)"
   ]
  },
  {
   "cell_type": "code",
   "execution_count": 135,
   "metadata": {},
   "outputs": [
    {
     "data": {
      "text/html": [
       "<div>\n",
       "<style scoped>\n",
       "    .dataframe tbody tr th:only-of-type {\n",
       "        vertical-align: middle;\n",
       "    }\n",
       "\n",
       "    .dataframe tbody tr th {\n",
       "        vertical-align: top;\n",
       "    }\n",
       "\n",
       "    .dataframe thead th {\n",
       "        text-align: right;\n",
       "    }\n",
       "</style>\n",
       "<table border=\"1\" class=\"dataframe\">\n",
       "  <thead>\n",
       "    <tr style=\"text-align: right;\">\n",
       "      <th></th>\n",
       "      <th>serial_number</th>\n",
       "      <th>activity_date</th>\n",
       "      <th>facility_name</th>\n",
       "      <th>violation_code</th>\n",
       "      <th>violation_description</th>\n",
       "      <th>violation_status</th>\n",
       "      <th>points</th>\n",
       "      <th>grade</th>\n",
       "      <th>facility_address</th>\n",
       "      <th>facility_city</th>\n",
       "      <th>...</th>\n",
       "      <th>owner_name</th>\n",
       "      <th>pe_description</th>\n",
       "      <th>program_element_pe</th>\n",
       "      <th>program_name</th>\n",
       "      <th>program_status</th>\n",
       "      <th>record_id</th>\n",
       "      <th>score</th>\n",
       "      <th>service_code</th>\n",
       "      <th>service_description</th>\n",
       "      <th>row_id</th>\n",
       "    </tr>\n",
       "  </thead>\n",
       "  <tbody>\n",
       "    <tr>\n",
       "      <th>0</th>\n",
       "      <td>DA08R0TCU</td>\n",
       "      <td>2018-03-30T00:00:00.000</td>\n",
       "      <td>KRUANG TEDD</td>\n",
       "      <td>F030</td>\n",
       "      <td># 30. Food properly stored; food storage conta...</td>\n",
       "      <td>OUT OF COMPLIANCE</td>\n",
       "      <td>1</td>\n",
       "      <td>A</td>\n",
       "      <td>5151 HOLLYWOOD BLVD</td>\n",
       "      <td>LOS ANGELES</td>\n",
       "      <td>...</td>\n",
       "      <td>5151 HOLLYWOOD LLC</td>\n",
       "      <td>RESTAURANT (31-60) SEATS HIGH RISK</td>\n",
       "      <td>1635</td>\n",
       "      <td>KRUANG TEDD</td>\n",
       "      <td>ACTIVE</td>\n",
       "      <td>PR0031205</td>\n",
       "      <td>92</td>\n",
       "      <td>1</td>\n",
       "      <td>ROUTINE INSPECTION</td>\n",
       "      <td>DA08R0TCUF030</td>\n",
       "    </tr>\n",
       "    <tr>\n",
       "      <th>1</th>\n",
       "      <td>DA08R0TCU</td>\n",
       "      <td>2018-03-30T00:00:00.000</td>\n",
       "      <td>KRUANG TEDD</td>\n",
       "      <td>F027</td>\n",
       "      <td># 27. Food separated and protected</td>\n",
       "      <td>OUT OF COMPLIANCE</td>\n",
       "      <td>1</td>\n",
       "      <td>A</td>\n",
       "      <td>5151 HOLLYWOOD BLVD</td>\n",
       "      <td>LOS ANGELES</td>\n",
       "      <td>...</td>\n",
       "      <td>5151 HOLLYWOOD LLC</td>\n",
       "      <td>RESTAURANT (31-60) SEATS HIGH RISK</td>\n",
       "      <td>1635</td>\n",
       "      <td>KRUANG TEDD</td>\n",
       "      <td>ACTIVE</td>\n",
       "      <td>PR0031205</td>\n",
       "      <td>92</td>\n",
       "      <td>1</td>\n",
       "      <td>ROUTINE INSPECTION</td>\n",
       "      <td>DA08R0TCUF027</td>\n",
       "    </tr>\n",
       "    <tr>\n",
       "      <th>2</th>\n",
       "      <td>DA08R0TCU</td>\n",
       "      <td>2018-03-30T00:00:00.000</td>\n",
       "      <td>KRUANG TEDD</td>\n",
       "      <td>F035</td>\n",
       "      <td># 35. Equipment/Utensils - approved; installed...</td>\n",
       "      <td>OUT OF COMPLIANCE</td>\n",
       "      <td>1</td>\n",
       "      <td>A</td>\n",
       "      <td>5151 HOLLYWOOD BLVD</td>\n",
       "      <td>LOS ANGELES</td>\n",
       "      <td>...</td>\n",
       "      <td>5151 HOLLYWOOD LLC</td>\n",
       "      <td>RESTAURANT (31-60) SEATS HIGH RISK</td>\n",
       "      <td>1635</td>\n",
       "      <td>KRUANG TEDD</td>\n",
       "      <td>ACTIVE</td>\n",
       "      <td>PR0031205</td>\n",
       "      <td>92</td>\n",
       "      <td>1</td>\n",
       "      <td>ROUTINE INSPECTION</td>\n",
       "      <td>DA08R0TCUF035</td>\n",
       "    </tr>\n",
       "    <tr>\n",
       "      <th>3</th>\n",
       "      <td>DA08R0TCU</td>\n",
       "      <td>2018-03-30T00:00:00.000</td>\n",
       "      <td>KRUANG TEDD</td>\n",
       "      <td>F033</td>\n",
       "      <td># 33. Nonfood-contact surfaces clean and in go...</td>\n",
       "      <td>OUT OF COMPLIANCE</td>\n",
       "      <td>1</td>\n",
       "      <td>A</td>\n",
       "      <td>5151 HOLLYWOOD BLVD</td>\n",
       "      <td>LOS ANGELES</td>\n",
       "      <td>...</td>\n",
       "      <td>5151 HOLLYWOOD LLC</td>\n",
       "      <td>RESTAURANT (31-60) SEATS HIGH RISK</td>\n",
       "      <td>1635</td>\n",
       "      <td>KRUANG TEDD</td>\n",
       "      <td>ACTIVE</td>\n",
       "      <td>PR0031205</td>\n",
       "      <td>92</td>\n",
       "      <td>1</td>\n",
       "      <td>ROUTINE INSPECTION</td>\n",
       "      <td>DA08R0TCUF033</td>\n",
       "    </tr>\n",
       "    <tr>\n",
       "      <th>4</th>\n",
       "      <td>DA08R0TCU</td>\n",
       "      <td>2018-03-30T00:00:00.000</td>\n",
       "      <td>KRUANG TEDD</td>\n",
       "      <td>F029</td>\n",
       "      <td># 29. Toxic substances properly identified, st...</td>\n",
       "      <td>OUT OF COMPLIANCE</td>\n",
       "      <td>1</td>\n",
       "      <td>A</td>\n",
       "      <td>5151 HOLLYWOOD BLVD</td>\n",
       "      <td>LOS ANGELES</td>\n",
       "      <td>...</td>\n",
       "      <td>5151 HOLLYWOOD LLC</td>\n",
       "      <td>RESTAURANT (31-60) SEATS HIGH RISK</td>\n",
       "      <td>1635</td>\n",
       "      <td>KRUANG TEDD</td>\n",
       "      <td>ACTIVE</td>\n",
       "      <td>PR0031205</td>\n",
       "      <td>92</td>\n",
       "      <td>1</td>\n",
       "      <td>ROUTINE INSPECTION</td>\n",
       "      <td>DA08R0TCUF029</td>\n",
       "    </tr>\n",
       "  </tbody>\n",
       "</table>\n",
       "<p>5 rows × 25 columns</p>\n",
       "</div>"
      ],
      "text/plain": [
       "  serial_number            activity_date facility_name violation_code  \\\n",
       "0     DA08R0TCU  2018-03-30T00:00:00.000   KRUANG TEDD           F030   \n",
       "1     DA08R0TCU  2018-03-30T00:00:00.000   KRUANG TEDD           F027   \n",
       "2     DA08R0TCU  2018-03-30T00:00:00.000   KRUANG TEDD           F035   \n",
       "3     DA08R0TCU  2018-03-30T00:00:00.000   KRUANG TEDD           F033   \n",
       "4     DA08R0TCU  2018-03-30T00:00:00.000   KRUANG TEDD           F029   \n",
       "\n",
       "                               violation_description   violation_status  \\\n",
       "0  # 30. Food properly stored; food storage conta...  OUT OF COMPLIANCE   \n",
       "1                 # 27. Food separated and protected  OUT OF COMPLIANCE   \n",
       "2  # 35. Equipment/Utensils - approved; installed...  OUT OF COMPLIANCE   \n",
       "3  # 33. Nonfood-contact surfaces clean and in go...  OUT OF COMPLIANCE   \n",
       "4  # 29. Toxic substances properly identified, st...  OUT OF COMPLIANCE   \n",
       "\n",
       "   points grade     facility_address facility_city  ...          owner_name  \\\n",
       "0       1     A  5151 HOLLYWOOD BLVD   LOS ANGELES  ...  5151 HOLLYWOOD LLC   \n",
       "1       1     A  5151 HOLLYWOOD BLVD   LOS ANGELES  ...  5151 HOLLYWOOD LLC   \n",
       "2       1     A  5151 HOLLYWOOD BLVD   LOS ANGELES  ...  5151 HOLLYWOOD LLC   \n",
       "3       1     A  5151 HOLLYWOOD BLVD   LOS ANGELES  ...  5151 HOLLYWOOD LLC   \n",
       "4       1     A  5151 HOLLYWOOD BLVD   LOS ANGELES  ...  5151 HOLLYWOOD LLC   \n",
       "\n",
       "                       pe_description program_element_pe program_name  \\\n",
       "0  RESTAURANT (31-60) SEATS HIGH RISK               1635  KRUANG TEDD   \n",
       "1  RESTAURANT (31-60) SEATS HIGH RISK               1635  KRUANG TEDD   \n",
       "2  RESTAURANT (31-60) SEATS HIGH RISK               1635  KRUANG TEDD   \n",
       "3  RESTAURANT (31-60) SEATS HIGH RISK               1635  KRUANG TEDD   \n",
       "4  RESTAURANT (31-60) SEATS HIGH RISK               1635  KRUANG TEDD   \n",
       "\n",
       "  program_status  record_id score  service_code service_description  \\\n",
       "0         ACTIVE  PR0031205    92             1  ROUTINE INSPECTION   \n",
       "1         ACTIVE  PR0031205    92             1  ROUTINE INSPECTION   \n",
       "2         ACTIVE  PR0031205    92             1  ROUTINE INSPECTION   \n",
       "3         ACTIVE  PR0031205    92             1  ROUTINE INSPECTION   \n",
       "4         ACTIVE  PR0031205    92             1  ROUTINE INSPECTION   \n",
       "\n",
       "          row_id  \n",
       "0  DA08R0TCUF030  \n",
       "1  DA08R0TCUF027  \n",
       "2  DA08R0TCUF035  \n",
       "3  DA08R0TCUF033  \n",
       "4  DA08R0TCUF029  \n",
       "\n",
       "[5 rows x 25 columns]"
      ]
     },
     "execution_count": 135,
     "metadata": {},
     "output_type": "execute_result"
    }
   ],
   "source": [
    "import pandas as pd\n",
    "restaurants.head()"
   ]
  },
  {
   "cell_type": "code",
   "execution_count": 136,
   "metadata": {},
   "outputs": [
    {
     "data": {
      "text/plain": [
       "<matplotlib.axes._subplots.AxesSubplot at 0x1a234b5cf8>"
      ]
     },
     "execution_count": 136,
     "metadata": {},
     "output_type": "execute_result"
    },
    {
     "data": {
      "image/png": "[encoded data removed]",
      "text/plain": [
       "<Figure size 432x432 with 1 Axes>"
      ]
     },
     "metadata": {
      "needs_background": "light"
     },
     "output_type": "display_data"
    }
   ],
   "source": [
    "restaurants['score'].plot.hist()"
   ]
  },
  {
   "cell_type": "markdown",
   "metadata": {},
   "source": [
    "##### The histogram above shows that the grades are right-skewed. Most restaurants received an A for their inspections. "
   ]
  },
  {
   "cell_type": "code",
   "execution_count": 137,
   "metadata": {},
   "outputs": [],
   "source": [
    "import pandas as pd\n",
    "import numpy as np\n",
    "import matplotlib.pyplot as plt\n",
    "import seaborn as sns #data visualization library --> makes matplotlib charts look nicer\n",
    "from IPython.display import Image"
   ]
  },
  {
   "cell_type": "code",
   "execution_count": 138,
   "metadata": {},
   "outputs": [],
   "source": [
    "%matplotlib inline\n",
    "\n",
    "plt.rcParams['figure.figsize'] = (6,6)\n"
   ]
  },
  {
   "cell_type": "code",
   "execution_count": 139,
   "metadata": {},
   "outputs": [],
   "source": [
    "from ipywidgets import interact, fixed"
   ]
  },
  {
   "cell_type": "code",
   "execution_count": 141,
   "metadata": {},
   "outputs": [],
   "source": [
    "from scipy import stats"
   ]
  },
  {
   "cell_type": "code",
   "execution_count": 145,
   "metadata": {},
   "outputs": [],
   "source": [
    "def categorical_variable_distribution(col):\n",
    "    restaurants[col].value_counts(ascending=True,normalize=True).tail(20).plot.barh()\n",
    "    plt.show()"
   ]
  },
  {
   "cell_type": "code",
   "execution_count": 147,
   "metadata": {},
   "outputs": [
    {
     "data": {
      "image/png": "[encoded data removed]",
      "text/plain": [
       "<Figure size 432x432 with 1 Axes>"
      ]
     },
     "metadata": {
      "needs_background": "light"
     },
     "output_type": "display_data"
    }
   ],
   "source": [
    "categorical_variable_distribution('violation_description')"
   ]
  },
  {
   "cell_type": "markdown",
   "metadata": {},
   "source": [
    "##### As shown above, more than 10 percent of the inspection results given pertain to floors, walls, and ceilings being properly built, well-maintained, and clean. Also, the most inspection results given are positive--which is probably very comforting to LA tourists eating at these restaurants."
   ]
  },
  {
   "cell_type": "code",
   "execution_count": 153,
   "metadata": {},
   "outputs": [
    {
     "data": {
      "text/plain": [
       "['serial_number',\n",
       " 'activity_date',\n",
       " 'facility_name',\n",
       " 'violation_code',\n",
       " 'violation_description',\n",
       " 'violation_status',\n",
       " 'grade',\n",
       " 'facility_address',\n",
       " 'facility_city',\n",
       " 'facility_id',\n",
       " 'facility_state',\n",
       " 'facility_zip',\n",
       " 'employee_id',\n",
       " 'owner_id',\n",
       " 'owner_name',\n",
       " 'pe_description',\n",
       " 'program_name',\n",
       " 'program_status',\n",
       " 'record_id',\n",
       " 'service_description',\n",
       " 'row_id']"
      ]
     },
     "execution_count": 153,
     "metadata": {},
     "output_type": "execute_result"
    }
   ],
   "source": [
    "categorical_columns = restaurants.select_dtypes(\n",
    "    ['object', 'category']).columns.tolist()\n",
    "\n",
    "categorical_columns"
   ]
  },
  {
   "cell_type": "code",
   "execution_count": 154,
   "metadata": {},
   "outputs": [
    {
     "data": {
      "application/vnd.jupyter.widget-view+json": {
       "model_id": "cd442c3c683c46448eef70ef843678c2",
       "version_major": 2,
       "version_minor": 0
      },
      "text/plain": [
       "interactive(children=(Dropdown(description='col', options=('serial_number', 'activity_date', 'facility_name', …"
      ]
     },
     "metadata": {},
     "output_type": "display_data"
    }
   ],
   "source": [
    "interact(categorical_variable_distribution, col=categorical_columns);"
   ]
  },
  {
   "cell_type": "markdown",
   "metadata": {},
   "source": [
    "#### It does not surprise me that restaurants in LA tend to have seat risks, especially because of how popular Los Angeles is."
   ]
  },
  {
   "cell_type": "markdown",
   "metadata": {},
   "source": [
    "#### Most of the inspections conducted were routine inspections, which went very well. "
   ]
  }
 ],
 "metadata": {
  "kernelspec": {
   "display_name": "Python 3",
   "language": "python",
   "name": "python3"
  },
  "language_info": {
   "codemirror_mode": {
    "name": "ipython",
    "version": 3
   },
   "file_extension": ".py",
   "mimetype": "text/x-python",
   "name": "python",
   "nbconvert_exporter": "python",
   "pygments_lexer": "ipython3",
   "version": "3.7.3"
  }
 },
 "nbformat": 4,
 "nbformat_minor": 2
}
